{
 "cells": [
  {
   "cell_type": "code",
   "execution_count": 1,
   "metadata": {},
   "outputs": [],
   "source": [
    "#loading libraries\n",
    "\n",
    "import numpy as np\n",
    "import pandas as pd\n",
    "import matplotlib.pyplot as plt\n",
    "from sklearn.ensemble import RandomForestRegressor\n",
    "from sklearn.model_selection import cross_val_score,train_test_split,GridSearchCV,StratifiedKFold\n",
    "from sklearn.metrics import roc_curve,auc,accuracy_score,classification_report,mean_squared_log_error \n",
    "from sklearn.preprocessing import StandardScaler"
   ]
  },
  {
   "cell_type": "code",
   "execution_count": 19,
   "metadata": {},
   "outputs": [],
   "source": [
    "#Loading train data\n",
    "df_train = pd.read_csv('preprocessed_train_data.csv')"
   ]
  },
  {
   "cell_type": "code",
   "execution_count": 21,
   "metadata": {},
   "outputs": [],
   "source": [
    "#Splitting df_train into X and y\n",
    "\n",
    "data_X = df_train.drop(['revenue'],axis=1)\n",
    "y = df_train.revenue\n"
   ]
  },
  {
   "cell_type": "code",
   "execution_count": 61,
   "metadata": {},
   "outputs": [],
   "source": [
    "#Splitting the dataset into train/test\n",
    "X_train,X_test,y_train,y_test = train_test_split(data_X,y,test_size=0.3,random_state=0)\n",
    "\n",
    "#Creating model of type StandardScaler to normalize train and test dataset\n",
    "scaler = StandardScaler()\n",
    "\n",
    "\n",
    "#Compute mean and standard deviation from X_train to be later used for scaling both X_train and X_test\n",
    "scaler.fit(X_train)\n",
    "\n",
    "#Perform standarization of X_train\n",
    "X_train = scaler.transform(X_train)\n",
    "\n",
    "#Perform standarization of X_train\n",
    "X_test = scaler.transform(X_test)\n",
    "\n",
    "#Initialize the model\n",
    "model = RandomForestRegressor(max_features='sqrt',random_state=0,criterion='mse',n_estimators=200,max_depth=20)\n",
    "\n",
    "#To reduce variance in the prediction(Heteroskedasticity) \n",
    "ylog = np.log(y_train)\n",
    "\n",
    "#Fit the model\n",
    "model.fit(X_train,ylog)\n",
    "\n",
    "# predict with out-of-sample data\n",
    "y_test_hat = model.predict(X_test)\n",
    "\n",
    "\n",
    "#Taking exponent of prediction to make it in the original scale\n",
    "y_test_hat = np.exp(y_test_hat)"
   ]
  },
  {
   "cell_type": "code",
   "execution_count": 62,
   "metadata": {},
   "outputs": [
    {
     "name": "stdout",
     "output_type": "stream",
     "text": [
      "MSE 2.204212259832976\n"
     ]
    }
   ],
   "source": [
    "#Printing MSE score\n",
    "print(\"MSE {0}\".format(mean_squared_log_error(y_test_hat,y_test)**0.5))\n"
   ]
  }
 ],
 "metadata": {
  "kernelspec": {
   "display_name": "Python 3",
   "language": "python",
   "name": "python3"
  },
  "language_info": {
   "codemirror_mode": {
    "name": "ipython",
    "version": 3
   },
   "file_extension": ".py",
   "mimetype": "text/x-python",
   "name": "python",
   "nbconvert_exporter": "python",
   "pygments_lexer": "ipython3",
   "version": "3.7.3"
  }
 },
 "nbformat": 4,
 "nbformat_minor": 2
}
