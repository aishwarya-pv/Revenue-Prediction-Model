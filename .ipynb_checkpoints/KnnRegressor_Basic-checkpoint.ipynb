{
 "cells": [
  {
   "cell_type": "code",
   "execution_count": 9,
   "metadata": {},
   "outputs": [],
   "source": [
    "#Importing Libraries\n",
    "\n",
    "import pandas as pd\n",
    "import numpy as np\n",
    "from sklearn.model_selection import train_test_split,cross_val_score,StratifiedKFold,GridSearchCV\n",
    "from sklearn.neighbors import KNeighborsRegressor\n",
    "from sklearn.metrics import roc_curve,auc,accuracy_score,classification_report,mean_squared_log_error \n",
    "from sklearn.preprocessing import StandardScaler\n"
   ]
  },
  {
   "cell_type": "code",
   "execution_count": 3,
   "metadata": {},
   "outputs": [],
   "source": [
    "#Reading the train dataset\n",
    "train = pd.read_csv('preprocessed_train_data.csv')"
   ]
  },
  {
   "cell_type": "code",
   "execution_count": 4,
   "metadata": {},
   "outputs": [],
   "source": [
    "#Splitting train dataset into X,y\n",
    "data_X = train.drop(['revenue'],axis=1)\n",
    "\n",
    "y = train.revenue\n"
   ]
  },
  {
   "cell_type": "code",
   "execution_count": 5,
   "metadata": {},
   "outputs": [],
   "source": [
    "#Splitting dataset into train/test\n",
    "X_train,X_test,y_train,y_test = train_test_split(data_X,y,test_size=0.3,random_state=0)\n",
    "\n",
    "#Creating model of type StandardScaler to normalize train and test dataset\n",
    "scaler = StandardScaler()\n",
    "\n",
    "#Compute mean and standard deviation from X_train to be later used for scaling both X_train and X_test\n",
    "scaler.fit(X_train)\n",
    "\n",
    "#Perform standarization of X_train\n",
    "X_train = scaler.transform(X_train)\n",
    "\n",
    "#Perform standarization of X_train\n",
    "X_test = scaler.transform(X_test)\n",
    "\n",
    "#To reduce variance in the prediction(Heteroskedasticity) \n",
    "ylog = np.log(y_train)"
   ]
  },
  {
   "cell_type": "code",
   "execution_count": 10,
   "metadata": {},
   "outputs": [
    {
     "name": "stderr",
     "output_type": "stream",
     "text": [
      "C:\\Users\\Anurag\\Anaconda3\\lib\\site-packages\\sklearn\\model_selection\\_split.py:657: Warning: The least populated class in y has only 1 members, which is too few. The minimum number of members in any class cannot be less than n_splits=5.\n",
      "  % (min_groups, self.n_splits)), Warning)\n"
     ]
    },
    {
     "name": "stdout",
     "output_type": "stream",
     "text": [
      "Best Parameter: {'n_neighbors': 8}\n"
     ]
    },
    {
     "name": "stderr",
     "output_type": "stream",
     "text": [
      "C:\\Users\\Anurag\\Anaconda3\\lib\\site-packages\\sklearn\\model_selection\\_search.py:813: DeprecationWarning: The default of the `iid` parameter will change from True to False in version 0.22 and will be removed in 0.24. This will change numeric results when test-set sizes are unequal.\n",
      "  DeprecationWarning)\n"
     ]
    }
   ],
   "source": [
    "#Initializing KNeighborsRegressor model\n",
    "knn_model = KNeighborsRegressor()\n",
    "\n",
    "#Intializing parameters\n",
    "param_grid = {'n_neighbors': [i for i in range(1,20)]}\n",
    "\n",
    "#Using StratifiedKFold to form 5  stratified partitions \n",
    "cv = StratifiedKFold(n_splits=5, random_state=0, shuffle=True)\n",
    "\n",
    "#Using GridSearchCV to find the best parameters\n",
    "grid = GridSearchCV(knn_model, param_grid, cv = cv, return_train_score=True)\n",
    "\n",
    "#Fitting the model with best estimators\n",
    "grid.fit(X_train, y_train)\n",
    "\n",
    "#Printing the best parameter\n",
    "print(\"Best Parameter: {}\".format(grid.best_params_))\n",
    "\n",
    "#Making Prediction\n",
    "y_test_hat= grid.predict(X_test)\n"
   ]
  },
  {
   "cell_type": "code",
   "execution_count": 16,
   "metadata": {},
   "outputs": [
    {
     "name": "stdout",
     "output_type": "stream",
     "text": [
      "MSE 2.7962592022111803\n"
     ]
    }
   ],
   "source": [
    "#Printing MSE score\n",
    "print(\"RMSE {0}\".format(mean_squared_log_error(y_test_hat,y_test)**0.5))"
   ]
  }
 ],
 "metadata": {
  "kernelspec": {
   "display_name": "Python 3",
   "language": "python",
   "name": "python3"
  },
  "language_info": {
   "codemirror_mode": {
    "name": "ipython",
    "version": 3
   },
   "file_extension": ".py",
   "mimetype": "text/x-python",
   "name": "python",
   "nbconvert_exporter": "python",
   "pygments_lexer": "ipython3",
   "version": "3.7.3"
  }
 },
 "nbformat": 4,
 "nbformat_minor": 2
}
