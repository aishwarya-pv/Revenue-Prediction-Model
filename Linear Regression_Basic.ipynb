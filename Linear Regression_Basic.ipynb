{
 "cells": [
  {
   "cell_type": "code",
   "execution_count": 8,
   "metadata": {},
   "outputs": [],
   "source": [
    "#Importing Libraries\n",
    "\n",
    "import pandas as pd\n",
    "import numpy as np\n",
    "from sklearn.model_selection import train_test_split,cross_val_score\n",
    "from sklearn.linear_model import LinearRegression\n",
    "from sklearn.metrics import roc_curve,auc,accuracy_score,classification_report,mean_squared_log_error \n",
    "from sklearn.preprocessing import StandardScaler"
   ]
  },
  {
   "cell_type": "code",
   "execution_count": 2,
   "metadata": {},
   "outputs": [],
   "source": [
    "#Reading the train dataset\n",
    "train = pd.read_csv('preprocessed_train_data.csv')"
   ]
  },
  {
   "cell_type": "code",
   "execution_count": 5,
   "metadata": {},
   "outputs": [],
   "source": [
    "#Splitting train dataset into X,y\n",
    "\n",
    "data_X = train.drop(['revenue'],axis=1)\n",
    "y = train.revenue"
   ]
  },
  {
   "cell_type": "code",
   "execution_count": 6,
   "metadata": {},
   "outputs": [],
   "source": [
    "#Splitting dataset into train/test\n",
    "X_train,X_test,y_train,y_test = train_test_split(data_X,y,test_size=0.3,random_state=0)\n",
    "\n",
    "#Creating model of type StandardScaler to normalize train and test dataset\n",
    "scaler = StandardScaler()\n",
    "\n",
    "#Compute mean and standard deviation from X_train to be later used for scaling both X_train and X_test\n",
    "scaler.fit(X_train)\n",
    "\n",
    "#Perform standarization of X_train\n",
    "X_train = scaler.transform(X_train)\n",
    "\n",
    "#Perform standarization of X_train\n",
    "X_test = scaler.transform(X_test)\n",
    "\n",
    "#To reduce variance in the prediction(Heteroskedasticity) \n",
    "ylog = np.log(y_train)\n",
    "\n",
    "#Initializing the model\n",
    "lr_model = LinearRegression()\n",
    "\n",
    "#fititng the model\n",
    "lr_model.fit(X_train,ylog)\n",
    "\n",
    "# predict with out-of-sample data\n",
    "y_test_hat = lr_model.predict(X_test)\n",
    "\n",
    "#Taking exponent of prediction to make it in the original scale\n",
    "y_test_hat = np.exp(y_test_hat)"
   ]
  },
  {
   "cell_type": "code",
   "execution_count": 9,
   "metadata": {},
   "outputs": [
    {
     "name": "stdout",
     "output_type": "stream",
     "text": [
      "MSE 2.5557975592439766\n"
     ]
    }
   ],
   "source": [
    "#Printing MSE score\n",
    "print(\"MSE {0}\".format(mean_squared_log_error(y_test_hat,y_test)**0.5))"
   ]
  }
 ],
 "metadata": {
  "kernelspec": {
   "display_name": "Python 3",
   "language": "python",
   "name": "python3"
  },
  "language_info": {
   "codemirror_mode": {
    "name": "ipython",
    "version": 3
   },
   "file_extension": ".py",
   "mimetype": "text/x-python",
   "name": "python",
   "nbconvert_exporter": "python",
   "pygments_lexer": "ipython3",
   "version": "3.7.3"
  }
 },
 "nbformat": 4,
 "nbformat_minor": 2
}
